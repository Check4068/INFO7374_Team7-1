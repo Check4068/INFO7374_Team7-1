{
 "cells": [
  {
   "cell_type": "code",
   "execution_count": 1,
   "metadata": {},
   "outputs": [
    {
     "name": "stderr",
     "output_type": "stream",
     "text": [
      "82it [00:00, 101.84it/s]\n"
     ]
    },
    {
     "name": "stdout",
     "output_type": "stream",
     "text": [
      "Images saved at /Users/check4068/images\n",
      "Products: \t2\n",
      "Categories: \t2\n",
      "Pictures: \t2\n",
      "\"retrained_labels.txt\" saved at /Users/check4068\n"
     ]
    }
   ],
   "source": [
    "import os\n",
    "import io\n",
    "import bson\n",
    "from tqdm import tqdm\n",
    "import matplotlib.pyplot as plt\n",
    "from skimage.data import imread\n",
    "import multiprocessing as mp\n",
    "from glob import iglob\n",
    "\n",
    "\n",
    "bson_file = '/Users/check4068/Desktop/算法营销作业/Assignment 3/train_example.bson'\n",
    "NCORE = 16\n",
    "max_images = 7069896\n",
    "\n",
    "input_dir = os.path.abspath(os.path.join(os.getcwd(), '../input'))\n",
    "base_dir = os.path.join(os.getcwd())\n",
    "images_dir = os.path.join(base_dir, 'images')\n",
    "bson_file = os.path.join(input_dir, bson_file)\n",
    "\n",
    "product_count = 2\n",
    "category_count = 2\n",
    "picture_count = 2\n",
    "\n",
    "\n",
    "def process(q, iolock):\n",
    "    global product_count\n",
    "    global category_count\n",
    "    global picture_count\n",
    "    while True:\n",
    "        d = q.get()\n",
    "        if d is None:\n",
    "            break\n",
    "\n",
    "        product_count += 1\n",
    "        product_id = str(d['_id'])\n",
    "        category_id = str(d['category_id'])\n",
    "\n",
    "        category_dir = os.path.join(images_dir, category_id)\n",
    "        if not os.path.exists(category_dir):\n",
    "            category_count += 1\n",
    "            try:\n",
    "                os.makedirs(category_dir)\n",
    "            except:\n",
    "                pass\n",
    "\n",
    "        for e, pic in enumerate(d['imgs']):\n",
    "            picture_count += 1\n",
    "            picture = imread(io.BytesIO(pic['picture']))\n",
    "            picture_file = os.path.join(category_dir, product_id + '_' + str(e) + '.jpg')\n",
    "            if not os.path.isfile(picture_file):\n",
    "                plt.imsave(picture_file, picture)\n",
    "\n",
    "\n",
    "q = mp.Queue(maxsize=NCORE)\n",
    "iolock = mp.Lock()\n",
    "pool = mp.Pool(NCORE, initializer=process, initargs=(q, iolock))\n",
    "\n",
    "\n",
    "data = bson.decode_file_iter(open(bson_file, 'rb'))\n",
    "\n",
    "for c, d in tqdm(enumerate(data)):\n",
    "    if (c + 1) > max_images:\n",
    "        break\n",
    "    q.put(d)  # blocks until q below its max size\n",
    "\n",
    "# tell workers we're done\n",
    "for _ in range(NCORE):\n",
    "    q.put(None)\n",
    "pool.close()\n",
    "pool.join()\n",
    "\n",
    "print('Images saved at %s' % images_dir)\n",
    "print('Products: \\t%d\\nCategories: \\t%d\\nPictures: \\t%d' % (product_count, category_count, picture_count))\n",
    "\n",
    "file = open(os.path.join(base_dir, 'retrained_labels.txt'), 'w')\n",
    "\n",
    "rootdir_glob = images_dir + '/**/*'\n",
    "folder_list = [f for f in iglob(rootdir_glob, recursive=True) if os.path.isdir(f)]\n",
    "for folder in folder_list:\n",
    "    category = folder.split('/')[-1]\n",
    "    file.write(category + '\\n')\n",
    "\n",
    "file.close()\n",
    "\n",
    "print('\"retrained_labels.txt\" saved at %s' % base_dir)"
   ]
  },
  {
   "cell_type": "code",
   "execution_count": 4,
   "metadata": {},
   "outputs": [],
   "source": [
    "import io\n",
    "import bson                       # this is installed with the pymongo package\n",
    "import matplotlib.pyplot as plt\n",
    "from skimage.data import imread   # or, whatever image library you prefer\n",
    "import multiprocessing as mp      # will come in handy due to the size of the data\n",
    "import pandas as pd\n",
    "# Simple data processing\n",
    "\n",
    "data = bson.decode_file_iter(open('/Users/check4068/Desktop/算法营销作业/Assignment 3/train_example.bson', 'rb'))\n",
    "\n",
    "prod_to_category = dict()\n",
    "\n",
    "for c, d in enumerate(data):\n",
    "    product_id = d['_id']\n",
    "    category_id = d['category_id'] # This won't be in Test data\n",
    "    prod_to_category[product_id] = category_id\n",
    "    for e, pic in enumerate(d['imgs']):\n",
    "        picture = imread(io.BytesIO(pic['picture']))\n",
    "        # do something with the picture, etc\n",
    "prod_to_category\n",
    "prod_to_category = pd.DataFrame.from_dict(prod_to_category, orient='index')\n",
    "prod_to_category\n",
    "prod_to_category.index.name = '_id'\n",
    "prod_to_category.rename(columns={0: 'category_id'}, inplace=True)"
   ]
  },
  {
   "cell_type": "code",
   "execution_count": 5,
   "metadata": {},
   "outputs": [
    {
     "data": {
      "text/html": [
       "<div>\n",
       "<style scoped>\n",
       "    .dataframe tbody tr th:only-of-type {\n",
       "        vertical-align: middle;\n",
       "    }\n",
       "\n",
       "    .dataframe tbody tr th {\n",
       "        vertical-align: top;\n",
       "    }\n",
       "\n",
       "    .dataframe thead th {\n",
       "        text-align: right;\n",
       "    }\n",
       "</style>\n",
       "<table border=\"1\" class=\"dataframe\">\n",
       "  <thead>\n",
       "    <tr style=\"text-align: right;\">\n",
       "      <th></th>\n",
       "      <th>category_id</th>\n",
       "    </tr>\n",
       "    <tr>\n",
       "      <th>_id</th>\n",
       "      <th></th>\n",
       "    </tr>\n",
       "  </thead>\n",
       "  <tbody>\n",
       "    <tr>\n",
       "      <td>0</td>\n",
       "      <td>1000010653</td>\n",
       "    </tr>\n",
       "    <tr>\n",
       "      <td>1</td>\n",
       "      <td>1000010653</td>\n",
       "    </tr>\n",
       "    <tr>\n",
       "      <td>2</td>\n",
       "      <td>1000004079</td>\n",
       "    </tr>\n",
       "    <tr>\n",
       "      <td>3</td>\n",
       "      <td>1000004141</td>\n",
       "    </tr>\n",
       "    <tr>\n",
       "      <td>4</td>\n",
       "      <td>1000015539</td>\n",
       "    </tr>\n",
       "    <tr>\n",
       "      <td>...</td>\n",
       "      <td>...</td>\n",
       "    </tr>\n",
       "    <tr>\n",
       "      <td>95</td>\n",
       "      <td>1000010653</td>\n",
       "    </tr>\n",
       "    <tr>\n",
       "      <td>97</td>\n",
       "      <td>1000010683</td>\n",
       "    </tr>\n",
       "    <tr>\n",
       "      <td>98</td>\n",
       "      <td>1000010667</td>\n",
       "    </tr>\n",
       "    <tr>\n",
       "      <td>99</td>\n",
       "      <td>1000014053</td>\n",
       "    </tr>\n",
       "    <tr>\n",
       "      <td>101</td>\n",
       "      <td>1000004085</td>\n",
       "    </tr>\n",
       "  </tbody>\n",
       "</table>\n",
       "<p>82 rows × 1 columns</p>\n",
       "</div>"
      ],
      "text/plain": [
       "     category_id\n",
       "_id             \n",
       "0     1000010653\n",
       "1     1000010653\n",
       "2     1000004079\n",
       "3     1000004141\n",
       "4     1000015539\n",
       "..           ...\n",
       "95    1000010653\n",
       "97    1000010683\n",
       "98    1000010667\n",
       "99    1000014053\n",
       "101   1000004085\n",
       "\n",
       "[82 rows x 1 columns]"
      ]
     },
     "execution_count": 5,
     "metadata": {},
     "output_type": "execute_result"
    }
   ],
   "source": [
    "prod_to_category"
   ]
  },
  {
   "cell_type": "code",
   "execution_count": 6,
   "metadata": {},
   "outputs": [
    {
     "data": {
      "image/png": "[encoded data removed]",
      "text/plain": [
       "<Figure size 432x288 with 1 Axes>"
      ]
     },
     "metadata": {
      "needs_background": "light"
     },
     "output_type": "display_data"
    }
   ],
   "source": [
    "plt.imshow(picture);"
   ]
  },
  {
   "cell_type": "code",
   "execution_count": null,
   "metadata": {},
   "outputs": [],
   "source": []
  },
  {
   "cell_type": "code",
   "execution_count": null,
   "metadata": {},
   "outputs": [],
   "source": []
  }
 ],
 "metadata": {
  "kernelspec": {
   "display_name": "Python 3",
   "language": "python",
   "name": "python3"
  },
  "language_info": {
   "codemirror_mode": {
    "name": "ipython",
    "version": 3
   },
   "file_extension": ".py",
   "mimetype": "text/x-python",
   "name": "python",
   "nbconvert_exporter": "python",
   "pygments_lexer": "ipython3",
   "version": "3.7.3"
  }
 },
 "nbformat": 4,
 "nbformat_minor": 4
}
